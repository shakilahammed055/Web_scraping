{
 "cells": [
  {
   "cell_type": "markdown",
   "id": "576910bb",
   "metadata": {},
   "source": [
    "## import Modules"
   ]
  },
  {
   "cell_type": "code",
   "execution_count": 16,
   "id": "e368bf27",
   "metadata": {},
   "outputs": [],
   "source": [
    "from selenium import webdriver\n",
    "from selenium.webdriver.chrome.service import Service\n",
    "from webdriver_manager.chrome import ChromeDriverManager\n",
    "from time import sleep"
   ]
  },
  {
   "cell_type": "markdown",
   "id": "38de4801",
   "metadata": {},
   "source": [
    "## Set Path for Webdriver"
   ]
  },
  {
   "cell_type": "code",
   "execution_count": 17,
   "id": "e312e08f",
   "metadata": {},
   "outputs": [],
   "source": [
    "path= 'C:/Users/Shakil Ahamed/Downloads/chromedriver/chromedriver.exe'"
   ]
  },
  {
   "cell_type": "code",
   "execution_count": 18,
   "id": "7eef1830",
   "metadata": {},
   "outputs": [],
   "source": [
    "#open the browser\n",
    "browser = webdriver.Chrome(service=Service(ChromeDriverManager().install()))"
   ]
  },
  {
   "cell_type": "code",
   "execution_count": 19,
   "id": "ce3539e4",
   "metadata": {},
   "outputs": [],
   "source": [
    "browser.get('https://www.amazon.com')"
   ]
  },
  {
   "cell_type": "code",
   "execution_count": 20,
   "id": "801bad78",
   "metadata": {},
   "outputs": [],
   "source": [
    "browser.maximize_window()"
   ]
  },
  {
   "cell_type": "code",
   "execution_count": 21,
   "id": "e3c85556",
   "metadata": {},
   "outputs": [],
   "source": [
    "from selenium.webdriver.common.by import By"
   ]
  },
  {
   "cell_type": "code",
   "execution_count": 22,
   "id": "7d6494aa",
   "metadata": {},
   "outputs": [],
   "source": [
    "#get the input element\n",
    "input_search = browser.find_element(By.ID, 'twotabsearchtextbox')\n",
    "search_button = browser.find_element(By.XPATH, \"(//input[@type='submit'])[1]\")"
   ]
  },
  {
   "cell_type": "code",
   "execution_count": 23,
   "id": "d5ccbe6f",
   "metadata": {},
   "outputs": [],
   "source": [
    "from selenium.webdriver.common.keys import Keys\n",
    "\n",
    "# Send the input to the webpage\n",
    "input_search.send_keys(\"Smartphones under 10000\")\n",
    "sleep(1)\n",
    "input_search.send_keys(Keys.ENTER)\n",
    "sleep(3)"
   ]
  },
  {
   "cell_type": "code",
   "execution_count": 24,
   "id": "f57e9c6e",
   "metadata": {},
   "outputs": [],
   "source": [
    "from selenium.webdriver.support.ui import WebDriverWait\n",
    "from selenium.webdriver.support import expected_conditions as EC"
   ]
  },
  {
   "cell_type": "code",
   "execution_count": 25,
   "id": "2007e6d1",
   "metadata": {},
   "outputs": [],
   "source": [
    "product_class = 'a-size-medium a-color-base a text-normal'\n"
   ]
  },
  {
   "cell_type": "markdown",
   "id": "15c53163",
   "metadata": {},
   "source": [
    "## Scrape Products from Amazon"
   ]
  },
  {
   "cell_type": "code",
   "execution_count": null,
   "id": "159c459a",
   "metadata": {},
   "outputs": [
    {
     "name": "stdout",
     "output_type": "stream",
     "text": [
      "Scraping page 1\n",
      "Collected 0 items so far.\n",
      "Scraping page 2\n",
      "Collected 0 items so far.\n",
      "Scraping page 3\n",
      "Collected 0 items so far.\n",
      "Scraping page 4\n",
      "Collected 0 items so far.\n",
      "Scraping page 5\n",
      "Collected 0 items so far.\n",
      "Scraping page 6\n",
      "Collected 0 items so far.\n",
      "Scraping page 7\n",
      "Collected 0 items so far.\n",
      "Scraping page 8\n",
      "Collected 0 items so far.\n",
      "Scraping page 9\n",
      "Collected 0 items so far.\n",
      "Scraping page 10\n",
      "Collected 0 items so far.\n",
      "Total products collected: 0\n"
     ]
    }
   ],
   "source": [
    "from selenium.webdriver.common.by import By\n",
    "from selenium.webdriver.common.action_chains import ActionChains\n",
    "from selenium.webdriver.support.ui import WebDriverWait\n",
    "from selenium.webdriver.support import expected_conditions as EC\n",
    "from selenium.common.exceptions import NoSuchElementException, TimeoutException\n",
    "from time import sleep\n",
    "\n",
    "products = []\n",
    "\n",
    "for i in range(10):\n",
    "    print('Scraping page', i + 1)\n",
    "\n",
    "    # Get product elements\n",
    "    product_elements = browser.find_elements(By.XPATH, '//*[@id=\"958e6254-554b-45dc-8a8f-c990dc97e9b8\"]/div/div/div/div/span/div/div/div/div[2]/div/div/div[1]/a/h2/span')\n",
    "    \n",
    "    # Extract text from each product element and append\n",
    "    for p in product_elements:\n",
    "        products.append(p.text)\n",
    "    \n",
    "    print(f\"Collected {len(products)} items so far.\")\n",
    "\n",
    "    # Try to click next\n",
    "    try:\n",
    "        next_button = WebDriverWait(browser, 10).until(\n",
    "            EC.element_to_be_clickable((By.XPATH, '//a[contains(@aria-label, \"Go to next page\")]'))\n",
    "        )\n",
    "        browser.execute_script(\"arguments[0].scrollIntoView(true);\", next_button)\n",
    "        sleep(1)\n",
    "        ActionChains(browser).move_to_element(next_button).perform()\n",
    "        sleep(1)\n",
    "        try:\n",
    "            next_button.click()\n",
    "        except Exception as e:\n",
    "            print(\"Normal click failed:\", e)\n",
    "        sleep(3)\n",
    "    except (NoSuchElementException, TimeoutException):\n",
    "        print(\"No more pages or next button not found.\")\n",
    "        break\n",
    "\n",
    "print(\"Total products collected:\", len(products))\n"
   ]
  },
  {
   "cell_type": "code",
   "execution_count": 15,
   "id": "fa4b1239",
   "metadata": {},
   "outputs": [
    {
     "data": {
      "text/plain": [
       "0"
      ]
     },
     "execution_count": 15,
     "metadata": {},
     "output_type": "execute_result"
    }
   ],
   "source": [
    "len(products)"
   ]
  }
 ],
 "metadata": {
  "kernelspec": {
   "display_name": "Python 3",
   "language": "python",
   "name": "python3"
  },
  "language_info": {
   "codemirror_mode": {
    "name": "ipython",
    "version": 3
   },
   "file_extension": ".py",
   "mimetype": "text/x-python",
   "name": "python",
   "nbconvert_exporter": "python",
   "pygments_lexer": "ipython3",
   "version": "3.13.3"
  }
 },
 "nbformat": 4,
 "nbformat_minor": 5
}
